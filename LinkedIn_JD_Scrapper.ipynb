{
  "nbformat": 4,
  "nbformat_minor": 0,
  "metadata": {
    "colab": {
      "name": "LinkedIn_JD_Scrapper.ipynb",
      "provenance": [],
      "collapsed_sections": []
    },
    "kernelspec": {
      "name": "python3",
      "display_name": "Python 3"
    },
    "language_info": {
      "name": "python"
    }
  },
  "cells": [
    {
      "cell_type": "code",
      "source": [
        "pip install selenium"
      ],
      "metadata": {
        "id": "jiuqbqmXoHvp"
      },
      "execution_count": null,
      "outputs": []
    },
    {
      "cell_type": "code",
      "source": [
        "pip install beautifulsoup4"
      ],
      "metadata": {
        "id": "mCT8H6UFoGq-"
      },
      "execution_count": null,
      "outputs": []
    },
    {
      "cell_type": "code",
      "execution_count": null,
      "metadata": {
        "id": "FmqLkJtYn8OK"
      },
      "outputs": [],
      "source": [
        "# importing libraries\n",
        "from selenium import webdriver\n",
        "import time\n",
        "from selenium.webdriver.common.keys import Keys\n",
        "from bs4 import BeautifulSoup\n",
        "import pandas as pd\n",
        "# importing libraries to plot the wordcloud\n",
        "from wordcloud import WordCloud, STOPWORDS\n",
        "import matplotlib.pyplot as plt"
      ]
    },
    {
      "cell_type": "code",
      "source": [
        "# Variables\n",
        "# Linkedin ID and PASSWORD\n",
        "email = \"your email id\"\n",
        "password = \"yourpassword\""
      ],
      "metadata": {
        "id": "NoiofKXdoMcM"
      },
      "execution_count": null,
      "outputs": []
    },
    {
      "cell_type": "code",
      "source": [
        "# Write here the job position and local for search\n",
        "position = \"Data Scientist\"\n",
        "local = \"India\""
      ],
      "metadata": {
        "id": "CR76gxBCoTwC"
      },
      "execution_count": null,
      "outputs": []
    },
    {
      "cell_type": "code",
      "source": [
        "# formating to linkedin model\n",
        "position = position.replace(' ', \"%20\")\n",
        "\n",
        "\n",
        "# Open browser\n",
        "driver_path = \"chromedriver.exe\"\n",
        "driver = webdriver.Chrome(executable_path=driver_path)\n",
        "# Maximizing browser window to avoid hidden elements\n",
        "driver.set_window_size(1024, 600)    #check your browser dimensions accordingly\n",
        "driver.maximize_window()"
      ],
      "metadata": {
        "id": "GVn9248HoarI"
      },
      "execution_count": null,
      "outputs": []
    },
    {
      "cell_type": "code",
      "source": [
        "# Opening linkedin website\n",
        "driver.get('https://www.linkedin.com/login')\n",
        "# waiting load\n",
        "time.sleep(2)      #The code force the script to wait for x seconds until following the next step. "
      ],
      "metadata": {
        "id": "Sv7xR2A1o5t-"
      },
      "execution_count": null,
      "outputs": []
    },
    {
      "cell_type": "code",
      "source": [
        "# Search for login and password inputs, send credentions\n",
        "driver.find_element_by_id('username').send_keys(email)\n",
        "driver.find_element_by_id('password').send_keys(password)\n",
        "driver.find_element_by_id('password').send_keys(Keys.RETURN)"
      ],
      "metadata": {
        "id": "3lu6YZnXtIUL"
      },
      "execution_count": null,
      "outputs": []
    },
    {
      "cell_type": "code",
      "source": [
        "# Opening jobs webpage\n",
        "driver.get(\n",
        "    f\"https://www.linkedin.com/jobs/search/?currentJobId=2662929045&geoId=106057199&keywords={position}&location={local}\")\n",
        "# waiting load\n",
        "time.sleep(2)"
      ],
      "metadata": {
        "id": "3RyqoXy7tTf_"
      },
      "execution_count": null,
      "outputs": []
    },
    {
      "cell_type": "code",
      "source": [
        "# creating a list where the descriptions will be stored\n",
        "disc_list = []\n",
        "\n",
        "# each page show us some jobs, sometimes show 25, others 13 or 21 \n",
        "# with this knowledge I created a loop that will check how many jobs the page is listing\n",
        "# linkedin show us 40 jobs pages, then the line below will repeat 40 times\n",
        "for i in range(1, 41):\n",
        "    # click button to change the job list\n",
        "    driver.find_element_by_xpath(f'//button[@aria-label=\"Page {i}\"]').click()\n",
        "    # each page show us some jobs, sometimes show 25, others 13 or 21 \n",
        "    jobs_lists = driver.find_element_by_class_name(\n",
        "        'jobs-search-results__list')  # here we create a list with jobs\n",
        "    jobs = jobs_lists.find_elements_by_class_name(\n",
        "        'jobs-search-results__list-item')  # here we select each job to count\n",
        "    # waiting load\n",
        "    time.sleep(1)\n",
        "    # the loop below is for the algorithm to click exactly on the number of jobs that is showing in list\n",
        "    # in order to avoid errors that will stop the automation\n",
        "    for job in range(1, len(jobs)+1):\n",
        "        # job click\n",
        "        driver.find_element_by_xpath(\n",
        "            f'/html/body/div[5]/div[3]/div[3]/div[2]/div/section[1]/div/div/ul/li[{job}]/div/div/div[1]/div[2]/div[1]/a').click()\n",
        "        # waiting load\n",
        "        time.sleep(1)\n",
        "        # select job description\n",
        "        job_desc = driver.find_element_by_class_name('jobs-search__right-rail')\n",
        "        # get text\n",
        "        soup = BeautifulSoup(job_desc.get_attribute(\n",
        "            'outerHTML'), 'html.parser')\n",
        "        # add text to list\n",
        "        disc_list.append(soup.text)\n"
      ],
      "metadata": {
        "id": "EQ8axpJdtwcQ"
      },
      "execution_count": null,
      "outputs": []
    },
    {
      "cell_type": "code",
      "source": [
        "# Creating a Dataframe with list\n",
        "df = pd.DataFrame(disc_list)\n",
        "\n",
        "# deleting useless words\n",
        "df = df.replace(['\\n',\n",
        "                 '^.*?Expect',\n",
        "                 '^.*?Qualifications',\n",
        "                 '^.*?Required',\n",
        "                 '^.*?expected',\n",
        "                 '^.*?Responsibilities',\n",
        "                 '^.*?Requisitos',\n",
        "                 '^.*?Requirements',\n",
        "                 '^.*?Qualificações',\n",
        "                 '^.*?QualificationsRequired1',\n",
        "                 '^.*?você deve ter:',\n",
        "                 '^.*?experiência',\n",
        "                 '^.*?você:',\n",
        "                 '^.*?Desejável',\n",
        "                 '^.*?great',\n",
        "                 '^.*?Looking For',\n",
        "                 '^.*?ll Need',\n",
        "                 '^.*?Conhecimento',\n",
        "                 '^.*?se:',\n",
        "                 '^.*?habilidades',\n",
        "                 '^.*?se:',\n",
        "                 '^.*?REQUISITOS'\n",
        "                 ], '', regex=True)"
      ],
      "metadata": {
        "id": "_Bk0HdMCtzVC"
      },
      "execution_count": null,
      "outputs": []
    },
    {
      "cell_type": "code",
      "source": [
        "# setup wordcloud\n",
        "stopwords = set(STOPWORDS)\n",
        "# selecting useless words     taken from data.world\n",
        "badwords = {'gender', 'experience', 'application', 'Apply', 'salary', 'todos', 'os', 'company', 'identity', 'sexual', 'orientation',\n",
        "            'de', 'orientação', 'sexual', 'gênero', 'committed', 'toda', 'client', 'conhecimento',\n",
        "            'world', 'year', 'save', 'São', 'Paulo', 'information', 'e', 'orientação', 'sexual', 'equal', 'oppotunity', 'ambiente', 'will',\n",
        "            'Experiência', 'national origin', 'todas', 'work', 'de', 'da', 'years', 'pessoa', 'clients', 'Plano', 'creating',\n",
        "            'employer', 'saúde', 'em', 'working', 'pessoas', 'mais', 'data', 'people', 'dia', 'one', 'knowledges', 'plataforma',\n",
        "            'ou', 'benefício', 'para', 'software', 'opportunity', 'tecnologia', 'você', 'mais', 'solution', 'national', 'origin',\n",
        "            'trabalhar', 'option', 'negócio', 'empresa', 'o', 'sicence', 'team', 'é', 'veteran', 'status', 'etc', 'raça', 'cor', 'belive',\n",
        "            'nossa', 'uma', 'como', 'Scientist', 'ferramenta', 'projeto', 'que', 'job', 'benefícios', 'knowledge', 'toll', 's', 'modelo',\n",
        "            'desconto', 'cultura', 'serviço', 'time', 'se', 'solutions', 'mercado', 'das', 'somos', 'problema', 'mundo', 'race', 'color',\n",
        "            'vaga', 'pelo', 'ser', 'show', 'Seguro', 'Se', 'um', 'Um', 'tool', 'regard', 'without', 'make', 'ao', 'técnica', 'life',\n",
        "            'interested', 'diversidade', 'proud', 'ability', 'sobre', 'options', 'using', 'área', 'nosso', 'na', 'seu', 'product', 'produto',\n",
        "            'building', 'skill', 'model', 'religion', 'Share', 'receive', 'consideration', 'Aqui', 'vida', 'ferramentas', 'Vale', 'Refeição',\n",
        "            'Strong', 'Pay', 'range', 'available', 'part', 'trabalho', 'Alimentação', 'employment', 'qualified', 'applicants', 'gympass',\n",
        "            'está', 'comprometida', 'forma', 'Transporte', 'Yes', 'gente', 'melhor', 'lugar', 'believe', 'moment', 'próximo', 'deasafio',\n",
        "            'dos', 'oportunidade', 'idade', 'new', 'Try', 'Premium', 'deficiência', 'sempre', 'criar', 'employee', 'problemas', 'unavailable',\n",
        "            'Brasil', 'dado', 'hiring', 'trends', 'equipe', 'recent', 'temos', 'build', 'career', 'nós', 'diferencial', 'ma',\n",
        "            'total', 'oferecemos', 'contato', 'tem', 'não', 'free', 'Full'}\n"
      ],
      "metadata": {
        "id": "b_MMDcndt9KW"
      },
      "execution_count": null,
      "outputs": []
    },
    {
      "cell_type": "code",
      "source": [
        "# deleting the useless words on plot\n",
        "stopwords.update(badwords)\n",
        "\n",
        "# plot parameters\n",
        "wordcloud = WordCloud(background_color='black',\n",
        "                      stopwords=stopwords,\n",
        "                      max_words=150,\n",
        "                      max_font_size=50,\n",
        "                      random_state=42).generate(\"\".join(df[0]))\n",
        "\n",
        "# Plot\n",
        "print(wordcloud)\n",
        "plt.figure(figsize=(10, 5))\n",
        "fig = plt.figure(1)\n",
        "plt.imshow(wordcloud)\n",
        "plt.axis('off')\n",
        "plt.show()\n",
        "\n",
        "# exporting our dataframe to a csv file\n",
        "df.to_csv('wordcloud-job.csv', sep=';')"
      ],
      "metadata": {
        "id": "PZmtx579uQNA"
      },
      "execution_count": null,
      "outputs": []
    }
  ]
}